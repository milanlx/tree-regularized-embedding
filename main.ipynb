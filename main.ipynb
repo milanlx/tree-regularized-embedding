{
 "cells": [
  {
   "cell_type": "code",
   "execution_count": null,
   "metadata": {},
   "outputs": [],
   "source": [
    "#!pip install pandas"
   ]
  },
  {
   "cell_type": "code",
   "execution_count": 4,
   "metadata": {},
   "outputs": [],
   "source": [
    "import sys  \n",
    "sys.path.insert(1, './src/')\n",
    "\n",
    "from train_tree import *\n"
   ]
  },
  {
   "cell_type": "code",
   "execution_count": 5,
   "metadata": {},
   "outputs": [],
   "source": [
    "# generate pseudo data \n",
    "n_sample = 500\n",
    "n_dim = 50\n",
    "X_train = np.random.normal(size=(n_sample, n_dim))\n",
    "Y_train = np.random.randint(2, size=n_sample)"
   ]
  },
  {
   "cell_type": "code",
   "execution_count": 6,
   "metadata": {},
   "outputs": [],
   "source": [
    "train_data = convert_to_DMatrix(X_train, Y_train)\n",
    "valid_data = convert_to_DMatrix(X_train, Y_train)"
   ]
  },
  {
   "cell_type": "code",
   "execution_count": 7,
   "metadata": {},
   "outputs": [
    {
     "name": "stdout",
     "output_type": "stream",
     "text": [
      "[0]\tvalid-auc:0.57785\n",
      "[1]\tvalid-auc:0.60641\n",
      "[2]\tvalid-auc:0.63189\n",
      "[3]\tvalid-auc:0.66043\n",
      "[4]\tvalid-auc:0.67723\n",
      "[5]\tvalid-auc:0.69483\n",
      "[6]\tvalid-auc:0.68607\n",
      "[7]\tvalid-auc:0.69150\n",
      "[8]\tvalid-auc:0.69782\n",
      "[9]\tvalid-auc:0.69814\n",
      "[10]\tvalid-auc:0.69945\n",
      "[11]\tvalid-auc:0.71186\n",
      "[12]\tvalid-auc:0.71009\n",
      "[13]\tvalid-auc:0.71951\n",
      "[14]\tvalid-auc:0.72026\n",
      "[15]\tvalid-auc:0.72653\n",
      "[16]\tvalid-auc:0.72516\n",
      "[17]\tvalid-auc:0.72955\n",
      "[18]\tvalid-auc:0.72685\n",
      "[19]\tvalid-auc:0.73378\n",
      "[20]\tvalid-auc:0.73080\n",
      "[21]\tvalid-auc:0.73668\n",
      "[22]\tvalid-auc:0.74147\n",
      "[23]\tvalid-auc:0.74575\n",
      "[24]\tvalid-auc:0.74569\n",
      "[25]\tvalid-auc:0.74738\n",
      "[26]\tvalid-auc:0.74654\n",
      "[27]\tvalid-auc:0.75038\n",
      "[28]\tvalid-auc:0.75073\n",
      "[29]\tvalid-auc:0.75234\n",
      "[30]\tvalid-auc:0.75294\n",
      "[31]\tvalid-auc:0.75552\n",
      "[32]\tvalid-auc:0.75951\n",
      "[33]\tvalid-auc:0.75970\n",
      "[34]\tvalid-auc:0.76092\n",
      "[35]\tvalid-auc:0.76153\n",
      "[36]\tvalid-auc:0.76185\n",
      "[37]\tvalid-auc:0.76257\n",
      "[38]\tvalid-auc:0.76257\n",
      "[39]\tvalid-auc:0.76134\n",
      "[40]\tvalid-auc:0.76182\n",
      "[41]\tvalid-auc:0.76153\n",
      "[42]\tvalid-auc:0.76211\n",
      "[43]\tvalid-auc:0.76267\n",
      "[44]\tvalid-auc:0.76267\n",
      "[45]\tvalid-auc:0.76333\n",
      "[46]\tvalid-auc:0.76248\n",
      "[47]\tvalid-auc:0.76281\n",
      "[48]\tvalid-auc:0.76509\n",
      "[49]\tvalid-auc:0.76739\n",
      "[50]\tvalid-auc:0.76909\n",
      "[51]\tvalid-auc:0.77077\n",
      "[52]\tvalid-auc:0.77345\n",
      "[53]\tvalid-auc:0.77686\n",
      "[54]\tvalid-auc:0.77673\n",
      "[55]\tvalid-auc:0.77715\n",
      "[56]\tvalid-auc:0.77869\n",
      "[57]\tvalid-auc:0.78047\n",
      "[58]\tvalid-auc:0.78061\n",
      "[59]\tvalid-auc:0.78245\n",
      "[60]\tvalid-auc:0.78104\n",
      "[61]\tvalid-auc:0.78088\n",
      "[62]\tvalid-auc:0.78141\n",
      "[63]\tvalid-auc:0.78301\n",
      "[64]\tvalid-auc:0.78439\n",
      "[65]\tvalid-auc:0.78872\n",
      "[66]\tvalid-auc:0.78728\n",
      "[67]\tvalid-auc:0.78686\n",
      "[68]\tvalid-auc:0.78710\n",
      "[69]\tvalid-auc:0.78710\n",
      "[70]\tvalid-auc:0.78795\n",
      "[71]\tvalid-auc:0.78835\n",
      "[72]\tvalid-auc:0.78699\n",
      "[73]\tvalid-auc:0.78732\n",
      "[74]\tvalid-auc:0.78772\n",
      "0.7877248914593312\n"
     ]
    }
   ],
   "source": [
    "xgb_model = train_model(train_data, valid_data, xgb_params, xgb_option)\n",
    "\n",
    "auc = evaluate_model(xgb_model, valid_data)\n",
    "\n",
    "print(auc)"
   ]
  },
  {
   "cell_type": "code",
   "execution_count": 8,
   "metadata": {},
   "outputs": [
    {
     "name": "stderr",
     "output_type": "stream",
     "text": [
      "/home/zeus/miniconda3/envs/cloudspace/lib/python3.10/site-packages/xgboost/core.py:160: UserWarning: [20:46:53] WARNING: /workspace/src/c_api/c_api.cc:1240: Saving into deprecated binary model format, please consider using `json` or `ubj`. Model format will default to JSON in XGBoost 2.2 if not specified.\n",
      "  warnings.warn(smsg, UserWarning)\n"
     ]
    }
   ],
   "source": [
    "# save to file \n",
    "xgb_model.save_model('model/xgb_model.ckpt')"
   ]
  },
  {
   "cell_type": "code",
   "execution_count": 9,
   "metadata": {},
   "outputs": [],
   "source": [
    "# load model \n",
    "model_path = 'model/xgb_model.ckpt'\n",
    "xgb_model = xgb.Booster()\n",
    "xgb_model.load_model(model_path)\n",
    "df_trees = xgb_model.trees_to_dataframe()"
   ]
  },
  {
   "attachments": {},
   "cell_type": "markdown",
   "metadata": {},
   "source": [
    "## Tree-regularized Embedding Part "
   ]
  },
  {
   "cell_type": "code",
   "execution_count": 17,
   "metadata": {},
   "outputs": [],
   "source": [
    "from tree_embedding import TreeToVector, TreeToVectorConverter, TreeToToken, TreeToTokenConverter"
   ]
  },
  {
   "cell_type": "code",
   "execution_count": 18,
   "metadata": {},
   "outputs": [],
   "source": [
    "xgb_model_path = 'model/xgb_model.ckpt'\n",
    "\n",
    "xgbTree = TreeToVectorConverter(xgb_model_path, X_train.shape[1])"
   ]
  },
  {
   "cell_type": "code",
   "execution_count": 23,
   "metadata": {},
   "outputs": [],
   "source": [
    "import torchvision.transforms as transforms\n",
    "\n",
    "transform_batch = transforms.Compose([TreeToVector(xgbTree)])"
   ]
  },
  {
   "cell_type": "code",
   "execution_count": 24,
   "metadata": {},
   "outputs": [],
   "source": [
    "from torch.utils.data import Dataset, DataLoader\n",
    "\n",
    "class ClassifierDataset(Dataset):\n",
    "    def __init__(self, X_data, Y_data):\n",
    "        self.X = X_data\n",
    "        self.Y = Y_data\n",
    "\n",
    "    def __len__(self):\n",
    "        return len(self.X)\n",
    "\n",
    "    def __getitem__(self, idx):\n",
    "        X_batch = self.X[idx]\n",
    "        Y_batch = self.Y[idx]\n",
    "        return X_batch, Y_batch"
   ]
  },
  {
   "cell_type": "code",
   "execution_count": 25,
   "metadata": {},
   "outputs": [],
   "source": [
    "import torch \n",
    "import torch.nn as nn\n",
    "\n",
    "train_data = ClassifierDataset(torch.from_numpy(X_train).float(), torch.from_numpy(Y_train).long())\n",
    "    \n",
    "train_loader = DataLoader(dataset=train_data, batch_size=64, shuffle=True)\n"
   ]
  },
  {
   "cell_type": "code",
   "execution_count": 27,
   "metadata": {},
   "outputs": [
    {
     "name": "stdout",
     "output_type": "stream",
     "text": [
      "1\n",
      "2\n",
      "3\n",
      "4\n",
      "5\n",
      "6\n",
      "7\n",
      "8\n",
      "9\n",
      "10\n"
     ]
    }
   ],
   "source": [
    "for epoch in range(10):\n",
    "    print(epoch+1)    \n",
    "    for batch_idx, (data, target) in enumerate(train_loader):\n",
    "        # transform \n",
    "        data = transform_batch(data)"
   ]
  }
 ],
 "metadata": {
  "kernelspec": {
   "display_name": "Python 3",
   "language": "python",
   "name": "python3"
  },
  "language_info": {
   "codemirror_mode": {
    "name": "ipython",
    "version": 3
   },
   "file_extension": ".py",
   "mimetype": "text/x-python",
   "name": "python",
   "nbconvert_exporter": "python",
   "pygments_lexer": "ipython3",
   "version": "3.10.11"
  },
  "orig_nbformat": 4
 },
 "nbformat": 4,
 "nbformat_minor": 2
}
